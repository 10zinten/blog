{
 "cells": [
  {
   "cell_type": "markdown",
   "metadata": {},
   "source": [
    "# Introduction to Unicode in Python\n",
    "> Understanding how unicode works and great unicode hack *UTF-8*\n",
    "\n",
    "- toc: true \n",
    "- badges: true\n",
    "- comments: true\n",
    "- categories: [unicode, utf-8, python, nlp]\n",
    "- image: images/tibetan-alphabet.png"
   ]
  },
  {
   "cell_type": "markdown",
   "metadata": {},
   "source": [
    "## What is Unicode"
   ]
  },
  {
   "cell_type": "markdown",
   "metadata": {},
   "source": [
    "To understand what Unicode is, first we need to understand basic encoding scheme called [ASCII](https://en.wikipedia.org/wiki/ASCII). Essentially *ASSCII* encodes every character in 7-bits, that means it can represent only 128 possible set of characters. Unicode is just a massive version of the ASCII table, which can represent 1,114,112 possible characters. In fact first 128 characters of Unicode table correspong precisely to the ASCII characters. That makes Unicode backward compatible to ASCII. For more detail description of Unicode follow this [link](http://www.unicode.org/standard/WhatIsUnicode.html). \n",
    "\n",
    "But remember that Unicode is not an encoding scheme, it's just a collection of code points representing characters and symbols. Unicode has various encoding sheme like `UTF-8` (most commonly used), `UTF-16` and `UTF-32` are used for representing Unicode characterss as binary data."
   ]
  },
  {
   "cell_type": "markdown",
   "metadata": {},
   "source": [
    "Every character in the Unicode table is mapped to something called unicode *code point* which is represented in hexadecimal (e.g. code point for `ཀ` is `\\u0f40`). Here is the unicode *code point* in python."
   ]
  },
  {
   "cell_type": "code",
   "execution_count": 11,
   "metadata": {},
   "outputs": [
    {
     "data": {
      "text/plain": [
       "b'\\\\u0f40'"
      ]
     },
     "execution_count": 11,
     "metadata": {},
     "output_type": "execute_result"
    }
   ],
   "source": [
    "'ཀ'.encode('unicode_escape')  # get unicode code point"
   ]
  },
  {
   "cell_type": "code",
   "execution_count": 12,
   "metadata": {},
   "outputs": [
    {
     "data": {
      "text/plain": [
       "3904"
      ]
     },
     "execution_count": 12,
     "metadata": {},
     "output_type": "execute_result"
    }
   ],
   "source": [
    "int(0x0f40) # 0x denotes hexadecimal"
   ]
  },
  {
   "cell_type": "code",
   "execution_count": 13,
   "metadata": {},
   "outputs": [
    {
     "data": {
      "text/plain": [
       "3904"
      ]
     },
     "execution_count": 13,
     "metadata": {},
     "output_type": "execute_result"
    }
   ],
   "source": [
    "ord('ཀ') # check for integer value."
   ]
  },
  {
   "cell_type": "markdown",
   "metadata": {},
   "source": [
    "Every language is given a specific unicode code point range. For eg:\n",
    "- `0020-007f` (32-127) for basic latin, similary to ASCII code point.\n",
    "- `0f00-0fff` (3840-4095) for Tibetan"
   ]
  },
  {
   "cell_type": "code",
   "execution_count": 14,
   "metadata": {},
   "outputs": [
    {
     "data": {
      "text/plain": [
       "(32, 127, 3840, 4095)"
      ]
     },
     "execution_count": 14,
     "metadata": {},
     "output_type": "execute_result"
    }
   ],
   "source": [
    "int(0x0020), int(0x007f), int(0x0f00), int(0x0fff)"
   ]
  },
  {
   "cell_type": "markdown",
   "metadata": {},
   "source": [
    "## UTF-8 - Great Hack of Unicode\n",
    "\n",
    "We obviously know that for code point of a character larger than  numeral 255 can't be represented with one byte (or 8-bits). It will need more than 1 bytes. So here comes `UFT-16` which represent every character in two bytes and if code point is larger than that we need have `UTF-32` wich represent every character in 4 bytes.\n",
    "\n",
    "But there some big issues with `UTF-16` and `UTF-32`:\n",
    "- Waste lots of memory, lots of bytes with all 0s.\n",
    "- Produces a 0x00 (i.e 00000000), which in many old computer interpreted as end of the string of characters.\n",
    "- Not compatible with ASCII.\n",
    "- Required [BOM](https://en.wikipedia.org/wiki/Byte_order_mark)\n",
    "\n",
    "Luckily `UTF-8` solves all these problems with it's wonderful hack. The hack is how it can represent all other non ASCII characters."
   ]
  },
  {
   "cell_type": "markdown",
   "metadata": {},
   "source": [
    "### UTF-8 Character Representation"
   ]
  },
  {
   "cell_type": "markdown",
   "metadata": {},
   "source": [
    "`UTF-8` was designed for backwrad compatibility with ASCII. So, the first 128 characters are ASCII characters with exact same order. Since unicode character code point order below the 255 requires extra bytes which makes `UTF-8` a **variable-length** encoding scheme and it can encode code points in one to four bytes.\n",
    "\n",
    "But the questions remain, how it represent unicode character which requires more than one byte while still avoiding eight consecutive 0s ? How it can specify the start of a characters ?. Well, let me explain it's unicode character representation along with an example."
   ]
  },
  {
   "cell_type": "markdown",
   "metadata": {},
   "source": [
    "Consider we are encoding first letter of Tibetan alphabet, `ཀ`:\n",
    "1. The Unicode code point for `ཀ` is U+0F40\n",
    "1. Hexadecimal 0F40 is binary 00001111 01000000\n",
    "1. In `UTF-8` encoding, first four bits tells how many bytes required to represent the given code point. According `UTF-8` scheme table, `ཀ` will need three bytes, it will be three 1s (like 1110...).\n",
    "1. Then four most significant bits of the code point are stored in the remaining low order four bits of the first byte (like **1110**0000).\n",
    "1. All continuation bytes contains six bits from the code point because **10** is stored in the high order two bits to mark it as a continuation byte. It also avoids eight consecutive 0s. So, the remaing bits code point is placed like this **10**111101 **10**000000.\n",
    "\n",
    "So `ཀ` in UTF-8 binary is **1110**0000 **10**111101 **10**000000. For more about UTF follow this [link](https://en.wikipedia.org/wiki/UTF-8)"
   ]
  },
  {
   "cell_type": "markdown",
   "metadata": {},
   "source": [
    "### Calulating Numeral value of a Unicode code point in python"
   ]
  },
  {
   "cell_type": "code",
   "execution_count": 18,
   "metadata": {},
   "outputs": [
    {
     "data": {
      "text/plain": [
       "b'\\xe0\\xbd\\x80'"
      ]
     },
     "execution_count": 18,
     "metadata": {},
     "output_type": "execute_result"
    }
   ],
   "source": [
    "'ཀ'.encode('utf-8')  # in hexadecimal"
   ]
  },
  {
   "cell_type": "code",
   "execution_count": 19,
   "metadata": {},
   "outputs": [
    {
     "data": {
      "text/plain": [
       "'11100000 10111101 10000000'"
      ]
     },
     "execution_count": 19,
     "metadata": {},
     "output_type": "execute_result"
    }
   ],
   "source": [
    "\" \".join(f\"{i:08b}\" for i in (0xe0, 0xbd, 0x80))  # convert hex to binary "
   ]
  },
  {
   "cell_type": "markdown",
   "metadata": {},
   "source": [
    "As you can see here, we got the exact same binary value of `ཀ` as above."
   ]
  },
  {
   "cell_type": "markdown",
   "metadata": {},
   "source": [
    "Extract code point bits from UTF-8 bits:\n",
    "\n",
    "Steps:\n",
    "1. Seperate out code point bits, 1110**0000** 10**111101** 10**000000**\n",
    "1. We got the code point bits of `ཀ`, 00001111 01000000"
   ]
  },
  {
   "cell_type": "markdown",
   "metadata": {},
   "source": [
    "convert extracted code point bits to int"
   ]
  },
  {
   "cell_type": "code",
   "execution_count": 20,
   "metadata": {},
   "outputs": [
    {
     "data": {
      "text/plain": [
       "3904"
      ]
     },
     "execution_count": 20,
     "metadata": {},
     "output_type": "execute_result"
    }
   ],
   "source": [
    "int('0000111101000000', 2)"
   ]
  },
  {
   "cell_type": "markdown",
   "metadata": {},
   "source": [
    "Compare it with python's `ord` function"
   ]
  },
  {
   "cell_type": "code",
   "execution_count": 10,
   "metadata": {},
   "outputs": [
    {
     "data": {
      "text/plain": [
       "True"
      ]
     },
     "execution_count": 10,
     "metadata": {},
     "output_type": "execute_result"
    }
   ],
   "source": [
    "int('0000111101000000', 2) == ord('ཀ')"
   ]
  },
  {
   "cell_type": "markdown",
   "metadata": {},
   "source": [
    "### Fun facts\n",
    "- 95% of web page in the internet uses `UTF-8` encoding at time of wiriting this blog."
   ]
  }
 ],
 "metadata": {
  "kernelspec": {
   "display_name": "Python 3",
   "language": "python",
   "name": "python3"
  },
  "language_info": {
   "codemirror_mode": {
    "name": "ipython",
    "version": 3
   },
   "file_extension": ".py",
   "mimetype": "text/x-python",
   "name": "python",
   "nbconvert_exporter": "python",
   "pygments_lexer": "ipython3",
   "version": "3.6.7"
  }
 },
 "nbformat": 4,
 "nbformat_minor": 2
}
