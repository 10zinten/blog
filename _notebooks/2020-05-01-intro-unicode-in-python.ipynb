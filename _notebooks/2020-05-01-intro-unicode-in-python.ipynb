{
 "cells": [
  {
   "cell_type": "markdown",
   "metadata": {},
   "source": [
    "# Introduction to Unicode in Python\n",
    "> Understanding how unicode works and great unicode hack *UTF-8*\n",
    "\n",
    "- toc: true \n",
    "- badges: true\n",
    "- comments: true\n",
    "- categories: [unicode, utf-8, python, nlp]\n",
    "- image: images/tibetan-alphabet.png"
   ]
  },
  {
   "cell_type": "markdown",
   "metadata": {},
   "source": [
    "## What is Unicode"
   ]
  },
  {
   "cell_type": "markdown",
   "metadata": {},
   "source": [
    "To understand what Unicode is, first we need to understand basic encoding scheme called [ASCII](https://en.wikipedia.org/wiki/ASCII). Essentially *ASSCII* encodes every character in 7-bits, that means it can represent only 128 possible set of characters. Unicode is just a massive version of the ASCII table, which can represent 1,114,112 possible characters. In fact first 128 characters of Unicode table correspong precisely to the ASCII characters. That makes Unicode backward compatible to ASCII. For more detail description of Unicode follow this [link](http://www.unicode.org/standard/WhatIsUnicode.html). \n",
    "\n",
    "But remember that Unicode is not an encoding scheme, it's just a collection of code points representing characters and symbols. Unicode has various encoding sheme like `UTF-8` (most commonly used), `UTF-16` and `UTF-32` are used for representing Unicode characterss as binary data."
   ]
  },
  {
   "cell_type": "markdown",
   "metadata": {},
   "source": [
    "Every character in the Unicode table is mapped to something called unicode *code point* which is represented in hexadecimal (e.g. code point for `ཀ` is `\\u0f40`). Here is the unicode *code point* in python."
   ]
  },
  {
   "cell_type": "code",
   "execution_count": 1,
   "metadata": {},
   "outputs": [
    {
     "data": {
      "text/plain": [
       "b'\\\\u0f40'"
      ]
     },
     "execution_count": 1,
     "metadata": {},
     "output_type": "execute_result"
    }
   ],
   "source": [
    "'ཀ'.encode('unicode_escape')  # get unicode code point"
   ]
  },
  {
   "cell_type": "code",
   "execution_count": 2,
   "metadata": {},
   "outputs": [
    {
     "data": {
      "text/plain": [
       "3904"
      ]
     },
     "execution_count": 2,
     "metadata": {},
     "output_type": "execute_result"
    }
   ],
   "source": [
    "int(0x0f40) # 0x denotes for hexadecimal"
   ]
  },
  {
   "cell_type": "code",
   "execution_count": 3,
   "metadata": {},
   "outputs": [
    {
     "data": {
      "text/plain": [
       "3904"
      ]
     },
     "execution_count": 3,
     "metadata": {},
     "output_type": "execute_result"
    }
   ],
   "source": [
    "ord('ཀ') # check for integer value."
   ]
  },
  {
   "cell_type": "markdown",
   "metadata": {},
   "source": [
    "Every language is given a specific unicode code point range. For eg:\n",
    "- `0020-007f` (32-127) for basic latin, similary to ASCII code point.\n",
    "- `0f00-0fff` (3840-4095) for Tibetan"
   ]
  },
  {
   "cell_type": "code",
   "execution_count": 4,
   "metadata": {},
   "outputs": [
    {
     "data": {
      "text/plain": [
       "(32, 127, 3840, 4095)"
      ]
     },
     "execution_count": 4,
     "metadata": {},
     "output_type": "execute_result"
    }
   ],
   "source": [
    "int(0x0020), int(0x007f), int(0x0f00), int(0x0fff)"
   ]
  },
  {
   "cell_type": "markdown",
   "metadata": {},
   "source": [
    "## UTF-8 - Greate Hack of Unicode\n",
    "\n",
    "When obviously know that for code point of a character larger than  decimal 255 can't be represented with 1 bytes (or 8-bits). It will need more than 1 bytes. So here comes `UFT-16` which represent every character in 2 bytes and if code point is larger than that we need have `UTF-32` wich represent every character in 4 bytes.\n",
    "\n",
    "But there some big issues with `UTF-16` and `UTF-32`:\n",
    "- Waste lots of memory, lots of bytes with decimal value 0.\n",
    "- Produces a 0x00 (i.e 00000000), which in many old computer interpreted as end of the string of characters.\n",
    "- Not compatible with ASCII.\n",
    "- Required [BOM](https://en.wikipedia.org/wiki/Byte_order_mark)\n",
    "\n",
    "Luckily `UTF-8` solves all the above problem with it's wonderful hack. It start by just taking ASCII."
   ]
  },
  {
   "cell_type": "markdown",
   "metadata": {},
   "source": [
    "### UTF-8 Representation"
   ]
  },
  {
   "cell_type": "markdown",
   "metadata": {},
   "source": [
    "### Calulating Unicode Index of a Character from It's bits."
   ]
  },
  {
   "cell_type": "code",
   "execution_count": 45,
   "metadata": {},
   "outputs": [
    {
     "data": {
      "text/plain": [
       "('!\"#$%&\\'()*+,-./:;<=>?@[\\\\]^_`{|}~',\n",
       " '0123456789abcdefghijklmnopqrstuvwxyzABCDEFGHIJKLMNOPQRSTUVWXYZ!\"#$%&\\'()*+,-./:;<=>?@[\\\\]^_`{|}~ \\t\\n\\r\\x0b\\x0c')"
      ]
     },
     "execution_count": 45,
     "metadata": {},
     "output_type": "execute_result"
    }
   ],
   "source": [
    "#hide\n",
    "import string\n",
    "string.punctuation, string.printable"
   ]
  }
 ],
 "metadata": {
  "kernelspec": {
   "display_name": "Python 3",
   "language": "python",
   "name": "python3"
  },
  "language_info": {
   "codemirror_mode": {
    "name": "ipython",
    "version": 3
   },
   "file_extension": ".py",
   "mimetype": "text/x-python",
   "name": "python",
   "nbconvert_exporter": "python",
   "pygments_lexer": "ipython3",
   "version": "3.6.7"
  }
 },
 "nbformat": 4,
 "nbformat_minor": 2
}
